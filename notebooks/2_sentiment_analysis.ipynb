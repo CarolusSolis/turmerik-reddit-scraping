{
 "cells": [
  {
   "cell_type": "markdown",
   "metadata": {},
   "source": [
    "# 2. Sentiment Analysis\n",
    "\n",
    "This pipeline performs sentiment analysis on the scraped Reddit data. We use a SOTA sentiment model fine-tuned on Twitter data, available through HuggingFace.\n",
    "\n",
    "First, adjust any constants if needed in the Setup section. Then, run the entire notebook."
   ]
  },
  {
   "cell_type": "markdown",
   "metadata": {},
   "source": [
    "## Setup"
   ]
  },
  {
   "cell_type": "code",
   "execution_count": 15,
   "metadata": {},
   "outputs": [],
   "source": [
    "# Import necessary libraries\n",
    "import json\n",
    "import os\n",
    "import logging\n",
    "from tqdm import tqdm\n",
    "import pandas as pd\n",
    "import matplotlib.pyplot as plt\n",
    "from transformers import AutoTokenizer, AutoModelForSequenceClassification, pipeline\n",
    "import torch\n",
    "\n",
    "# Set up logging\n",
    "logging.basicConfig(level=logging.INFO, format='%(asctime)s - %(levelname)s - %(message)s')\n"
   ]
  },
  {
   "cell_type": "code",
   "execution_count": 30,
   "metadata": {},
   "outputs": [],
   "source": [
    "# Constants\n",
    "INPUT_FILE = '../data/raw_reddit_data.json'\n",
    "OUTPUT_FILE = '../data/sentiment_results.csv'\n",
    "MODEL_NAME = 'cardiffnlp/twitter-roberta-base-sentiment'\n",
    "BATCH_SIZE = 32  # For processing texts in batches\n",
    "MAX_LENGTH = 512  # Maximum sequence length for the model\n",
    "\n",
    "# Define label mapping, this is specific to the model used\n",
    "LABEL_MAPPING = {\n",
    "    'LABEL_0': 'Negative',\n",
    "    'LABEL_1': 'Neutral',\n",
    "    'LABEL_2': 'Positive'\n",
    "}\n",
    "\n",
    "DEVICE = 'cuda' if torch.cuda.is_available() else 'mps' if torch.backends.mps.is_available() else 'cpu'"
   ]
  },
  {
   "cell_type": "code",
   "execution_count": 17,
   "metadata": {},
   "outputs": [
    {
     "name": "stderr",
     "output_type": "stream",
     "text": [
      "2024-11-02 23:52:11,311 - INFO - Loading sentiment analysis model...\n"
     ]
    },
    {
     "name": "stderr",
     "output_type": "stream",
     "text": [
      "2024-11-02 23:52:12,959 - INFO - Loading data from ../data/raw_reddit_data.json...\n"
     ]
    }
   ],
   "source": [
    "# Initialize sentiment analysis pipeline with updated configuration\n",
    "logging.info(\"Loading sentiment analysis model...\")\n",
    "tokenizer = AutoTokenizer.from_pretrained(MODEL_NAME)\n",
    "model = AutoModelForSequenceClassification.from_pretrained(MODEL_NAME)\n",
    "sentiment_pipeline = pipeline(\n",
    "    \"sentiment-analysis\",\n",
    "    model=model,\n",
    "    tokenizer=tokenizer,\n",
    "    device=DEVICE,\n",
    "    batch_size=BATCH_SIZE,\n",
    "    truncation=True,\n",
    "    max_length=MAX_LENGTH\n",
    ")\n",
    "\n",
    "# Load data\n",
    "logging.info(f\"Loading data from {INPUT_FILE}...\")\n",
    "with open(INPUT_FILE, 'r') as f:\n",
    "    reddit_data = json.load(f)"
   ]
  },
  {
   "cell_type": "markdown",
   "metadata": {},
   "source": [
    "## Processing"
   ]
  },
  {
   "cell_type": "code",
   "execution_count": 18,
   "metadata": {},
   "outputs": [],
   "source": [
    "# Prepare lists to store analysis results\n",
    "users = []\n",
    "texts = []\n",
    "sentiment_labels = []\n",
    "sentiment_scores = []\n",
    "\n",
    "# Temporary lists to hold texts and corresponding user information for batch processing\n",
    "batch_texts = []\n",
    "batch_users = []\n",
    "\n",
    "# Function to add data to the batch\n",
    "def add_to_batch(user, text):\n",
    "    batch_users.append(user)\n",
    "    batch_texts.append(text)"
   ]
  },
  {
   "cell_type": "code",
   "execution_count": 19,
   "metadata": {},
   "outputs": [
    {
     "name": "stderr",
     "output_type": "stream",
     "text": [
      "2024-11-02 23:52:12,977 - INFO - Processing posts and comments...\n",
      "Processing Posts: 100%|██████████| 332/332 [00:28<00:00, 11.51it/s]\n"
     ]
    }
   ],
   "source": [
    "# Process posts and comments\n",
    "logging.info(\"Processing posts and comments...\")\n",
    "for post in tqdm(reddit_data, desc=\"Processing Posts\"):\n",
    "    # Check if the post contains the matching keyword\n",
    "    if post.get('matching_keyword') == 'clinical trial':\n",
    "        # Process post\n",
    "        post_text = post.get('text', '')\n",
    "        post_user = post.get('author', 'unknown')  # Assuming 'author' field contains the username\n",
    "        add_to_batch(post_user, post_text)\n",
    "\n",
    "        # Process comments\n",
    "        for comment in post.get('comments', []):\n",
    "            comment_text = comment.get('text', '')\n",
    "            comment_user = comment.get('author', 'unknown')  # Assuming 'author' field\n",
    "            add_to_batch(comment_user, comment_text)\n",
    "\n",
    "        # If batch is full, perform sentiment analysis\n",
    "        if len(batch_texts) >= BATCH_SIZE:\n",
    "            try:\n",
    "                sentiments = sentiment_pipeline(batch_texts)\n",
    "                for user, text, sentiment in zip(batch_users, batch_texts, sentiments):\n",
    "                    users.append(user)\n",
    "                    texts.append(text)\n",
    "                    sentiment_labels.append(sentiment['label'])\n",
    "                    sentiment_scores.append(sentiment['score'])\n",
    "            except Exception as e:\n",
    "                logging.error(f\"Error during batch sentiment analysis: {e}\")\n",
    "                # Optionally, handle individual texts here\n",
    "            finally:\n",
    "                # Clear the batch lists\n",
    "                batch_texts = []\n",
    "                batch_users = []\n",
    "\n",
    "# Process any remaining texts in the batch\n",
    "if batch_texts:\n",
    "    try:\n",
    "        sentiments = sentiment_pipeline(batch_texts)\n",
    "        for user, text, sentiment in zip(batch_users, batch_texts, sentiments):\n",
    "            users.append(user)\n",
    "            texts.append(text)\n",
    "            sentiment_labels.append(sentiment['label'])\n",
    "            sentiment_scores.append(sentiment['score'])\n",
    "    except Exception as e:\n",
    "        logging.error(f\"Error during final batch sentiment analysis: {e}\")\n"
   ]
  },
  {
   "cell_type": "markdown",
   "metadata": {},
   "source": [
    "## Post processing"
   ]
  },
  {
   "cell_type": "code",
   "execution_count": 31,
   "metadata": {},
   "outputs": [],
   "source": [
    "# Create a DataFrame with the analysis results\n",
    "df = pd.DataFrame({\n",
    "    'user': users,\n",
    "    'text': texts,\n",
    "    'sentiment_label': sentiment_labels,\n",
    "    'sentiment_score': sentiment_scores\n",
    "})\n",
    "\n",
    "# Map sentiment labels using the defined label mapping\n",
    "df['sentiment_label'] = df['sentiment_label'].map(LABEL_MAPPING)\n"
   ]
  },
  {
   "cell_type": "code",
   "execution_count": 32,
   "metadata": {},
   "outputs": [
    {
     "name": "stderr",
     "output_type": "stream",
     "text": [
      "2024-11-02 23:57:50,848 - INFO - Saving analysis results to ../data/sentiment_results.csv...\n"
     ]
    }
   ],
   "source": [
    "# Save the analysis data\n",
    "logging.info(f\"Saving analysis results to {OUTPUT_FILE}...\")\n",
    "df.to_csv(OUTPUT_FILE, index=False)"
   ]
  },
  {
   "cell_type": "code",
   "execution_count": 38,
   "metadata": {},
   "outputs": [
    {
     "data": {
      "text/html": [
       "<div>\n",
       "<style scoped>\n",
       "    .dataframe tbody tr th:only-of-type {\n",
       "        vertical-align: middle;\n",
       "    }\n",
       "\n",
       "    .dataframe tbody tr th {\n",
       "        vertical-align: top;\n",
       "    }\n",
       "\n",
       "    .dataframe thead th {\n",
       "        text-align: right;\n",
       "    }\n",
       "</style>\n",
       "<table border=\"1\" class=\"dataframe\">\n",
       "  <thead>\n",
       "    <tr style=\"text-align: right;\">\n",
       "      <th></th>\n",
       "      <th>user</th>\n",
       "      <th>text</th>\n",
       "      <th>sentiment_label</th>\n",
       "      <th>sentiment_score</th>\n",
       "    </tr>\n",
       "  </thead>\n",
       "  <tbody>\n",
       "    <tr>\n",
       "      <th>0</th>\n",
       "      <td>jarchivistswag</td>\n",
       "      <td>I’ve had chronic nerve pain and severe, bilateral paresthesia in both of my legs, for over a year and no doctors can figure it out. I’ve spoken with 6 neurologists about it who agree there’s no way it could be because of a few old, small herniated discs I have, but also can’t figure out what’s causing it. I can’t really sit down anymore because it makes my nerves so angry, and I really just feel shitty almost all the time. I’m on two medications for it, one that barely works and one that maybe has been helping but I just started it, so it’s difficult to say.  \\nI just don’t know what to do. I hate that I have to accept it but I don’t even know what’s happening. This is the rest of my life. Yes. I understand that. I feel terrible about it most days, but if I’m very strict with how I move and don’t sit or do things that make my nerves angry I can get by relatively not horrible feeling. But I don’t even know why it’s happening. I hate that I don’t know why it’s happening. I hate that maybe there could be a treatment, but I don’t know what it is, because I don’t even know what’s wrong with me. I hate that I will never be taken seriously about it by anyone because I don’t have an answer for it. I hate that I can never get on disability, because I have no diagnosis, even though just daily life kills me if I’m not living like an alien who barely steps out of line and I can’t work. I hate that my life is ruined. I’m just in such a weird place. It’s so hard to accept this when no one knows why it’s happening. My most recent neurology appointment said “we will do one more EMG and MRI of your lumbar plexus, and if that shows nothing your best bet might be clinical trials and seeing The Mayo Clinic.” What the fuck is my life? I have New York insurance. I can’t do shit anywhere else unless I’m so interesting to a researcher that they take me on pro-bono for the love of the game. What do I even do with myself? I feel so aimless. I just want to be comfortable again. Even a piece of my body is completely numb and it’s slowly spreading and I have no idea why. I constantly feel like my legs are being prickled by needles if I’m not careful and they always tingle. It’s just so distressing and overwhelming sometimes. I need to have more self restraint and stop trying to sit. I just miss my life. And myself. And how carefree everything was. I feel so fucking weird and I don’t know where I’m at. I just know my life is over, will continue to be over, and I will never be able to return to the type of carefree, physically able person I was before all of this garbage. And whenever I talk about it I’m just told that I’m depressing— that it’s depressing that I have no hope in ever getting better. But I won’t. I have to live like this and accept that it’s over. This is the only life I get. Wishing for a miracle that will never exist will get me nowhere. There is no cure. There is no way to even know what is wrong with me. But I really am just miserable a lot of the time. I got told by the person performing the repeat EMG that I was “a perfectly healthy 18 year old” based off my nerve impulses. I think I’m in hell. I’m trying my best. It never ends, though.</td>\n",
       "      <td>Negative</td>\n",
       "      <td>0.961714</td>\n",
       "    </tr>\n",
       "    <tr>\n",
       "      <th>1</th>\n",
       "      <td>hotheadnchickn</td>\n",
       "      <td>Hey, I am so sorry you are dealing with this. It sounds like a lot of pain on a daily level as well as limitations, and right now, no help or diagnosis in sight. \\n\\nI also have an invisible issue that caused a sitting disability and it’s a really difficult and isolating limitation. I have other chronic illness/disability stuff but for me this aspect is the most limiting and the most hard to accommodate. And it’s a limit that is hard for people to wrap their head around. I have tried to explain when I am asking about spaces and potential accommodations and people offer me wheelchairs 🙄 So you think disability = wheelchair? Right after I said “sitting disability”???? \\n\\nI have a couple low key suggestions if you are interested in suggestions but it’s okay if you’re not. I really hope things ease up for you soon.</td>\n",
       "      <td>Negative</td>\n",
       "      <td>0.697534</td>\n",
       "    </tr>\n",
       "    <tr>\n",
       "      <th>2</th>\n",
       "      <td>stradamus</td>\n",
       "      <td>Yeah it’s always frustrating, I get the comment “you are a perfectly healthy young woman at the age of 34” so I’m sure you get even more for being 18..  I’m like please just take a look at my medical record and you’ll see how much I’ve been going through…. \\n\\nThe amount of ageism that the doctors give you is ridiculous.. or seeing you as a hypochondriac :/. Like I’m here to try to find help and an answer. I just want to be functional. \\n\\nJust wondering did they run the brain entire spine MRIs with contrast? And have they done a sacral mri? \\n\\nCause my spine mris didnt show anything until they out the contrast in then they found a bunch of issues. \\n\\nWhen it hurts when you sit does it feel like sciatica pain? I’ve been feeling numbness in both my hands and feet, I’ve had two emgs ran one was abnormal the other was normal, my new neurologist wants to run another emg lol… and when it came back abnormal they tell me “well sometimes these tests aren’t reliable” me like : okay then why are do we keep running them… \\n\\nI used to live in New York, do you have Medicaid? I’d suggest going to mt Sinai area around union square if you can they have top doctors that are super knowledgeable and super nice. They definitely are very thorough and think outside the box than normal places/clinics! If you’d like more information you can feel free to dm me</td>\n",
       "      <td>Negative</td>\n",
       "      <td>0.587590</td>\n",
       "    </tr>\n",
       "    <tr>\n",
       "      <th>3</th>\n",
       "      <td>manicpixietrainwreck</td>\n",
       "      <td>I’m applying the the UDN (Undiagnosed ) program clinical trial, and they need a letter of recommendation from one of my physicians. My primary care specialist and I haven’t been working together for a long time, which I know is who you usually put on here. My neurologist switches often, and I love my rheumatologist she’s a nice lady but she can be unintentionally a little dismissive. That leaves me with my psychiatrist, who knows my history the best - we’ve worked together the longest. It says any physician so I’m really unsure. It wouldn’t hurt to ask her I guess.</td>\n",
       "      <td>Neutral</td>\n",
       "      <td>0.500012</td>\n",
       "    </tr>\n",
       "    <tr>\n",
       "      <th>4</th>\n",
       "      <td>None</td>\n",
       "      <td>[deleted]</td>\n",
       "      <td>Neutral</td>\n",
       "      <td>0.652426</td>\n",
       "    </tr>\n",
       "  </tbody>\n",
       "</table>\n",
       "</div>"
      ],
      "text/plain": [
       "                   user  \\\n",
       "0        jarchivistswag   \n",
       "1        hotheadnchickn   \n",
       "2             stradamus   \n",
       "3  manicpixietrainwreck   \n",
       "4                  None   \n",
       "\n",
       "                                                                                                                                                                                                                                                                                                                                                                                                                                                                                                                                                                                                                                                                                                                                                                                                                                                                                                                                                                                                                                                                                                                                                                                                                                                                                                                                                                                                                                                                                                                                                                                                                                                                                                                                                                                                                                                                                                                                                                                                                                                                                                                                                                                                                                                                                                                                                                                                                                                                                                                                                                                                                                                                                                                                                                                                                                                                                                                                                                                                                                                                                                                                                                                                                                                                                                                text  \\\n",
       "0  I’ve had chronic nerve pain and severe, bilateral paresthesia in both of my legs, for over a year and no doctors can figure it out. I’ve spoken with 6 neurologists about it who agree there’s no way it could be because of a few old, small herniated discs I have, but also can’t figure out what’s causing it. I can’t really sit down anymore because it makes my nerves so angry, and I really just feel shitty almost all the time. I’m on two medications for it, one that barely works and one that maybe has been helping but I just started it, so it’s difficult to say.  \\nI just don’t know what to do. I hate that I have to accept it but I don’t even know what’s happening. This is the rest of my life. Yes. I understand that. I feel terrible about it most days, but if I’m very strict with how I move and don’t sit or do things that make my nerves angry I can get by relatively not horrible feeling. But I don’t even know why it’s happening. I hate that I don’t know why it’s happening. I hate that maybe there could be a treatment, but I don’t know what it is, because I don’t even know what’s wrong with me. I hate that I will never be taken seriously about it by anyone because I don’t have an answer for it. I hate that I can never get on disability, because I have no diagnosis, even though just daily life kills me if I’m not living like an alien who barely steps out of line and I can’t work. I hate that my life is ruined. I’m just in such a weird place. It’s so hard to accept this when no one knows why it’s happening. My most recent neurology appointment said “we will do one more EMG and MRI of your lumbar plexus, and if that shows nothing your best bet might be clinical trials and seeing The Mayo Clinic.” What the fuck is my life? I have New York insurance. I can’t do shit anywhere else unless I’m so interesting to a researcher that they take me on pro-bono for the love of the game. What do I even do with myself? I feel so aimless. I just want to be comfortable again. Even a piece of my body is completely numb and it’s slowly spreading and I have no idea why. I constantly feel like my legs are being prickled by needles if I’m not careful and they always tingle. It’s just so distressing and overwhelming sometimes. I need to have more self restraint and stop trying to sit. I just miss my life. And myself. And how carefree everything was. I feel so fucking weird and I don’t know where I’m at. I just know my life is over, will continue to be over, and I will never be able to return to the type of carefree, physically able person I was before all of this garbage. And whenever I talk about it I’m just told that I’m depressing— that it’s depressing that I have no hope in ever getting better. But I won’t. I have to live like this and accept that it’s over. This is the only life I get. Wishing for a miracle that will never exist will get me nowhere. There is no cure. There is no way to even know what is wrong with me. But I really am just miserable a lot of the time. I got told by the person performing the repeat EMG that I was “a perfectly healthy 18 year old” based off my nerve impulses. I think I’m in hell. I’m trying my best. It never ends, though.    \n",
       "1                                                                                                                                                                                                                                                                                                                                                                                                                                                                                                                                                                                                                                                                                                                                                                                                                                                                                                                                                                                                                                                                                                                                                                                                                                                                                                                                                                                                                                                                                                                                                                                                                                                                                                                                                                                                                                                                                                                                                                                                                                                                                                                                                                                                                                                                                                                                                                                                                                                           Hey, I am so sorry you are dealing with this. It sounds like a lot of pain on a daily level as well as limitations, and right now, no help or diagnosis in sight. \\n\\nI also have an invisible issue that caused a sitting disability and it’s a really difficult and isolating limitation. I have other chronic illness/disability stuff but for me this aspect is the most limiting and the most hard to accommodate. And it’s a limit that is hard for people to wrap their head around. I have tried to explain when I am asking about spaces and potential accommodations and people offer me wheelchairs 🙄 So you think disability = wheelchair? Right after I said “sitting disability”???? \\n\\nI have a couple low key suggestions if you are interested in suggestions but it’s okay if you’re not. I really hope things ease up for you soon.    \n",
       "2                                                                                                                                                                                                                                                                                                                                                                                                                                                                                                                                                                                                                                                                                                                                                                                                                                                                                                                                                                                                                                                                                                                                                                                                                                                                                                                                                                                                                                                                                                                                                                                                                                                                                                                                                                                                                                                                                                   Yeah it’s always frustrating, I get the comment “you are a perfectly healthy young woman at the age of 34” so I’m sure you get even more for being 18..  I’m like please just take a look at my medical record and you’ll see how much I’ve been going through…. \\n\\nThe amount of ageism that the doctors give you is ridiculous.. or seeing you as a hypochondriac :/. Like I’m here to try to find help and an answer. I just want to be functional. \\n\\nJust wondering did they run the brain entire spine MRIs with contrast? And have they done a sacral mri? \\n\\nCause my spine mris didnt show anything until they out the contrast in then they found a bunch of issues. \\n\\nWhen it hurts when you sit does it feel like sciatica pain? I’ve been feeling numbness in both my hands and feet, I’ve had two emgs ran one was abnormal the other was normal, my new neurologist wants to run another emg lol… and when it came back abnormal they tell me “well sometimes these tests aren’t reliable” me like : okay then why are do we keep running them… \\n\\nI used to live in New York, do you have Medicaid? I’d suggest going to mt Sinai area around union square if you can they have top doctors that are super knowledgeable and super nice. They definitely are very thorough and think outside the box than normal places/clinics! If you’d like more information you can feel free to dm me   \n",
       "3                                                                                                                                                                                                                                                                                                                                                                                                                                                                                                                                                                                                                                                                                                                                                                                                                                                                                                                                                                                                                                                                                                                                                                                                                                                                                                                                                                                                                                                                                                                                                                                                                                                                                                                                                                                                                                                                                                                                                                                                                                                                                                                                                                                                                                                                                                                                                                                                                                                                                                                                                                                                                                                                                                                       I’m applying the the UDN (Undiagnosed ) program clinical trial, and they need a letter of recommendation from one of my physicians. My primary care specialist and I haven’t been working together for a long time, which I know is who you usually put on here. My neurologist switches often, and I love my rheumatologist she’s a nice lady but she can be unintentionally a little dismissive. That leaves me with my psychiatrist, who knows my history the best - we’ve worked together the longest. It says any physician so I’m really unsure. It wouldn’t hurt to ask her I guess.    \n",
       "4                                                                                                                                                                                                                                                                                                                                                                                                                                                                                                                                                                                                                                                                                                                                                                                                                                                                                                                                                                                                                                                                                                                                                                                                                                                                                                                                                                                                                                                                                                                                                                                                                                                                                                                                                                                                                                                                                                                                                                                                                                                                                                                                                                                                                                                                                                                                                                                                                                                                                                                                                                                                                                                                                                                                                                                                                                                                                                                                                                                                                                                                                                                                                                                                                                                                                                          [deleted]   \n",
       "\n",
       "  sentiment_label  sentiment_score  \n",
       "0        Negative         0.961714  \n",
       "1        Negative         0.697534  \n",
       "2        Negative         0.587590  \n",
       "3         Neutral         0.500012  \n",
       "4         Neutral         0.652426  "
      ]
     },
     "execution_count": 38,
     "metadata": {},
     "output_type": "execute_result"
    }
   ],
   "source": [
    "df.head()"
   ]
  },
  {
   "cell_type": "code",
   "execution_count": 33,
   "metadata": {},
   "outputs": [
    {
     "name": "stderr",
     "output_type": "stream",
     "text": [
      "2024-11-02 23:58:02,064 - INFO - Displaying sentiment score distribution...\n"
     ]
    },
    {
     "data": {
      "image/png": "[encoded data removed]",
      "text/plain": [
       "<Figure size 800x600 with 1 Axes>"
      ]
     },
     "metadata": {},
     "output_type": "display_data"
    }
   ],
   "source": [
    "# Display distribution graph of the sentiment labels\n",
    "logging.info(\"Displaying sentiment score distribution...\")\n",
    "plt.figure(figsize=(8, 6))\n",
    "df['sentiment_label'].value_counts().plot(kind='bar', color='skyblue')\n",
    "plt.title('Distribution of Sentiment Labels')\n",
    "plt.xlabel('Sentiment')\n",
    "plt.ylabel('Count')\n",
    "plt.xticks(rotation=0)\n",
    "plt.show()"
   ]
  }
 ],
 "metadata": {
  "kernelspec": {
   "display_name": "turmerik",
   "language": "python",
   "name": "python3"
  },
  "language_info": {
   "codemirror_mode": {
    "name": "ipython",
    "version": 3
   },
   "file_extension": ".py",
   "mimetype": "text/x-python",
   "name": "python",
   "nbconvert_exporter": "python",
   "pygments_lexer": "ipython3",
   "version": "3.12.7"
  }
 },
 "nbformat": 4,
 "nbformat_minor": 2
}
